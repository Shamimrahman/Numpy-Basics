{
 "cells": [
  {
   "cell_type": "markdown",
   "metadata": {},
   "source": [
    "<img src=\"data:image/png;base64,iVBORw0KGgoAAAANSUhEUgAAAWMAAACOCAMAAADTsZk7AAAA21BMVEX///8AAAA9hcbxwjLxwjMsfsM5g8XxwCXxwS0ygMQ2gsX99eTq6urxwS6mpqbwvx8RERG4uLjV1dXy8vJ0dHQvLy8oKCjJycnyxkH33Jiaut3P3u/h4eFPj8s6Ojq+vr5BQUFfl83z9/v889v55bfY5PHn7vfzzF322pP++vLJ2eyKsNn11oT67Mn10nV2pNP55bDwvAD44KGampq1zufzylD///lbls70z2eioqJ9qtb11XuWud1NTU1bW1tqamqFhYUbGxurx+SNjY0KdcD78NL668NTU1NwcHAQraFXAAAVrElEQVR4nO2da0PaWBCGIyFXpKm1XQGlrUGQmwrIxbW2Wqp2//8v2pk59yQIXipVM192S0IMD4c578yZObGs3HLLLbfcXpE1130Dr9669fAiXvdNvGpr7TuuG9bH676P12vxhRMW0Jz93GH8GRsXggK3MOjlDuPpbRfcREGaGxZyh/HE1joPNMK5w/gD1gvDQsrC4Hzd9/WarFtwksO4UAjC3F08kU1HlVvLmrtBchRfoNKo5w7j8XY78Xz7uGHFvUDzF66z3yKl4TrnrXXf4gu3xlnk27btV6odqymVhRtgGAJKgwZ0WMt13MOt0/eRMFjZngwwkCbKRFUpDUY8twfZoOLZ0srFsyMrnoPDcE7AO9QKpufI3fJD7GjilW3dypVvJSs+d7vgiOuhqTNC5zx3GPe1EnPEJmRyy5bmmA3K83Xf80uz42EKMVhkH8Cxk6yIBLRd7i/uYQcgiG8Oo3KCsO+1O1ZjNLV2T8LkQA4KMIx386G8ot2ceT4IYuugEhmeIjorWZ227x0epRxy6PRQaTjO/u667/4lWKdv+6giYMhOq5ESFtHkliuNchHnPl1YoKyAFwJUGCd5SLLMRhW/zOY3FMSl4yFzGJ43UkoD5r6RlopzMM05rvN/heHFuj/D3223E1864bKPTuEGHYYffeuA0vB8dawCx3ZnAbqJGioN5Tpg8stDkoWmU6Q5zj8ugX+wo8OSNW2bWs5H7wyjF3VxfO4YQsN1ZrnEyLRO20vJNd8GQdw5SoR84hsAhRHvYkouJeXcPCTJspLtJbUaOgWvglHH4TDrWFSZwrFZRkACTtrJ576EdTqYYkuBBL3WwKqVUj8j6sNj05LVylokoQRG7jB0G1QqoCJuTUEMeo3PbCB+G4epY6Dljg696hRmvMRin1Pvgu44yXWcssahVy57E+CpC2Lbi0ChxSeB61IQd+Brx/xhFZWd79te5UBTbhTyodKwLoIQSwTW/dn+Dut8Y36AlELnWDgF0GvgbWtMMbgBjsy2+Ab86BgilDZLLpejSQNznZwyRCEw3Y350lQQ5DrOmo586Wn9CH74NxN0y+XosEFLpUopwA+/xL6BaEJKQ0ppfwjyuXXuImRnBkqjqeZB16m/9fD61tRk9MMfVKII/5tIYYbORQwOGMbyCDNGhgrxUMft7ge0ItI6N973xlf80lICxu8NKGUg1uo5SblABAcY8vX9pMygdMYYvoW4lpIZb3jFb/otRQp/+N4xKuLUWj8TDOgJrHYl630YDVLkl5bLb3jFbxSlgjdSDBhZdDNYgcOln/2gmPk++m6a6dQyVse93fU+ISn00XgGwfMx+AOUBiYtt4CkarMWJj0T72PioodFF916mCSMouRNWowfvGGsdgCpGxjengdzGJzQMxIRVNqNRVmYjy8dG8kNr4giOQwoV2/NC9q3w8Q1eKZqdc0feA0WX1MYdqCUhceCPfw3C0kgVBM1FG4d5jOuNCh5eTSR347nt0FVML0WuKgsejKBH7o9UhW3k6i95g+8BoudMMDWjmmVBXC+B6SU0oC5DxXyjIYkOeJYKg1WT8FzcRCQlDS95jKFfMLe55yQI26ceb73FsexgwECzvelb0OfMjwdQ5P5druDP/zQdXGZbl7QlAY5BcqGotiLExUt+APBFT/eOcIu+0YZoxqjVc6bCWZ/Rkm9QM4j7qFD7dYTMyC52dJZNMjQa6GLNZ21ApPFIzbe3y5jnl+wMuqCpFtm/UwpQRaQWM6saNHWm27FZd8wY5EnK9np9DHl4VH17qdiPuaV8Tr7GYIYjrGKFm356k0zxlGHc//IToUWXhEXpweUi0iQZKm4JrqRfTd5LCzwahYtH/q2GYNX3o3HODcl10yxyGLkUTp+bDrksFBDV+1QOn5eNyiHIdNrBx2rUi4Wc8accesa5ZieJCJNxoqFfBQd8YVK9rgBSoc5r1ppoiB2VTZT6LVhCRjbAnLOuOWw8la53kRJYhkG+n6/I0MSFhzLjAY1RIo8hUj/YAY/Isa2XcwZc8YoudCLjoYerjMNMJ2h+Q7ScbvINXRrGALqq0vofsfoMMKgRhen6FEwtmks54yRMZ/HOsdR1J9S3sLUcaih5yG5iYtk1QqudtREOp4Pf8UYIeeMW/xf1K90A1H0bTGxEM1X/DCVNA5TyWUK7lokmKd9XrusMQbK3lvMVwTq164Ysyh5UY23N8Qa70y1XAiu2cKdWr82GEeVm0V3srnB7Cp96B925N2fQcBsayNh739+/Xj64Umu3TqX0YPGGFNnrbSOUz65ZLUu6inCbrjPksTHavhrjL3yaLrwRjbf8w+X/lyf1sGY2afT7UdfuoQddkEG44LTtGqt9GKfj/UqjUNcHm2emzXeoDQo6Bg1rIlfTDH2h99K9AezTTL+nDq0RsYwnh/9Z9u4uj9m6fQU4xkqhSO9bojkMo5ulsPo7hcUZJYkhfOHDevQl4pYMMbUHHw5C/2xZLzxb/LQWhlvbFw+8tLVyAP1wCKLFOP9kCSGXPErk1zmSoNKWKxavSCqVnCepE6oiBgLyIyx5x/gPOgtztErxhubiUNrZrzx/XGXrnqs2gqVbpBi7IKQg8hvylb8KG9xZEdqUFdxtYNCaPoyACKeyBnzsAMZeyQnDuC7WqwrNMY/EofWzfiRI7nq2bxqsDu7zmDMAzjQup7fnybdMys3PKnz7M+AiQnJmMYyMLaxEpzVI67EeOOLeegZGX/Sbmjn46Ibup9Vxe8e3PK8mcWY588O4IxOO70SjemMMQUdNxMRgCvGQBkY36BCYW9djfE/5mT+jIzNv7z3ld/Q+8dcuioKBDG7ZrUKSihIxijkZugJUiskBM1n1EqqgsBg7HmoJGQxxmqMEyJ5bYyt7c9PMJCraj0avW18IVf6dcYwo9WwJySLMfY6AWK9wUwx9iPSa9rq9WqMTZG8PsbWHr+f/x5xacXY9ov4gmxOMhgXwp513kq23JCvwBWSI2BcVIpYMsawrluDyU4eW5WxIZITjDf3yHQa7JU98wT6/w/vPv74fXm6o527dXX5+/Jqa8/SbQFj6wd7/af6I4bq2Tb/8hLGxXIFlFdHlvikGNedC5Rm5pyHoXHp0AfGInupGHveADOhPWRcvCfjjdPFjD+lf77m6P+P/Qtw/Zu64M5X+cp3/ceyiPG7DXmx7/wU/fAvfngFxogAGQ9RjllzjN/SjGkNFEISVbWCbqLTH/oVYiwkMWPse986uKdhiIylWl7OWHhAbbgkGPMztKGZYMz1wObeP/q39nVbHeKmRTuLGO/wU/eUvNMHMr+1q3swjliHB65opBlToLErpj5kCBcYlD3+TgmZGGNYRytTnDEeK67C+MtP9l9NJD+M8XttEDPIcihKUy5+EeMP6tLb6W9mTx29mzEfYpxUOTq7obX8DMasVptiaQqNsRZLvVNQjm6sCUygXebZJWOWP17K+MMXft9bj2Sctn8vUy/JMbnCOLYu5XcljHuSn3chBsZF4SslKd/rY8VmK4sxrZPGjTNwtZboWjAYoyK+sUYlmc/TGAPk5Yx35DQjP+5TMc6wj8sYCweBr3/R/p/Zb/bCrzsZt9WUr5HyyiTIzp0MxmyxroOLdWKJxGTs2SXQgFJp64zBj6zAOJVJfjjjq53t7e0vP3Sqvz5sb29uSaexjLGmK+Sfkb8w+du7k7FWfGyQoihZ25lQY8zV8pGqmtDfSS07llY1pDOmtvaljKUaELf+UMafhCc4lYR/CpUlzhFXWaKPL/U3yamCD+x0NjZhctXZHI32kFYs5nyp32BcwPXSticFmXqn70Fs3Ux6Gc6YlYCvwNj6at77AxkrZ2PJkaw0wXvzogviPKFMmFAUzlmcxEXi3a7Cui3J4mNz5ipGjQbmlmPWpKszrhdw3Rlmy6I5W9pl3J0l7l0nZ0vGmALJW3sVxmIyP30UYzVpSjia6ubKVjjkTMZC48h8hdA+5jdwZwSC/hh+2tMqRskaY2QHjKMhTn5ULmiOY85YSBL+TlqEmhfClCJBxlSb0TiLolUYW1cb+t0/kLF2wvZGigaH+sP858+tL8LeXQmpruId/sXwXCcfCsvSy1WPuvAwo1NORhKNiI091LkLGLOhTO+kvZy6uGFIBmMY4Tcs97YaYzFCfj8RY3GCNkq/mIDuzB9L9cGp8tHOieshaTZj3k16M4kYY7lGhIz50kdcczDOy2BM51OEeNwQZUIZjHGEs9zbaowtQyT/ScZfV2CspeiNv82njSWugpFi0/2gmMjsNJhapr1WWt3sccwoV6wORIeiFM5k7PaoY1J0jqzIWM5S2+tnfKVd51R7adO8wt2MeXc/uIyh0hWCMVJu45K9tpeNyRg8iiUXXpOMQ4caIeSGh6syFh7047oZfzbEL9dypHjembe1jDF89iKMxM6hagVRjG224qk1mRuMfR+Gaax1KmiM+XY3bVULsypjmfDaWSfjfz4mw4vf6i/xn9oyV6GNxnJ0ZmlNBQZjUMsQu6meD40xzWbdVuYqVYFv23QwlB5odcaaSH5Gxu8/Cvt1urWTgY9/9b/kNZcvWkvG4IgrINN2p6Oin8E4KllYoMJ7zRVj3COgdZ652sr7pY4GlD8u3puxEsnPyNhIDmfepiT7xbyrxSZym0wd7DqFXsz7+TXGRcZYbF7jSsZYNBTX3DBdmQHnBNjQVDoe9vX88T0Yy/z35udnZLy09Io7i03xV5bXagmVa5PK7TpUT0X7UkjGokqizovjd2cOY0xFQ5QjTjMOqD2v0/c8ry/zx/dkLETy5XOO46XItsTNyAG9zMz8cRdJYXv+QdFjjLWKqjqpBNwbaO5cwDuHoJxhGiSqScb1wi7t7oKF4n09f3wfxlIkb/xNjLng+cFd2day83nWwRaMx2z/fhQDVWKsVwbWuRZDtwzDuTpSvbspxlgqwJexNcaUwF90JxmMLTOn/ncwFnKCh/tLT6ccvRQWwJhXcGK/QqmTnPMEQrE30Fw+x8JgjPkKaj/nXY99PX9cHi66kyzGQiSbjLlHXLxm+mcZG7+uVaq0RmqdGRjPBSnqKe98s/0MxrwV2lDEijHrVL/Ruh51xn5lhRy9Zu/0zyMYc4R6muA5GYtrka3gKvRNYpGx6j5w65a+KZPOGJheLOhyYHqtZE20Nh3FGKKVheXH2YyFSDYY83hWy4yLNN3zMNaXslapAC9hiZUvGNc0xvtWY6Q2FzMZo67IYkz7MpWOj61DX1VUCMYUrbQW7qeXzXhP+zyCsfixyvVhIfKeibFIRm+sWD7UnjRERwIwvjAZDytH1rRNDmMVxqyhqQqSTq/x5ozLvo3Z5bqz6E6yGSt+mtoXL1xhHLa3pdK8z8NYcxYrlcG1I9yJsIF5CmQcGowjyrmVzoDyCowdfDLWAYgJ/5jVCTHKjLFvt6dWd+a692Usgjyd8cJ152diLL/3n6ucbbU91ul4MPH9itVLMOY5N/DZw2WMr3EfBfYYBsGYV60gY9ynukVPu7g3Y/XLlIx1B7IOxiLKV7n7O61NefPJDQQMxSzGfBluYJeSOfoEY9zCSezZeazXeCNjiFZwlxZK4C+6k0WM1ahVmQFDbuB4unxWxvK3lbrXTGvzGm+Y8Ett6zyDMd+1cGoVFjIOgyZGdaJ0VmOMXY/f8M3jGb/0/Rlv/kwx1hbz0T5vnj4vY/7nPq3WV9YWtde4fyYuj6YZiypibcs2gzGb6m4nMktqMKaNzHbVFiKLGS8cG2LU6v1OO6py7eep/NCc8eVCxlo5YKI5Qa8HWmrcWa3mKiRjrFqhXRzFJrE6Y1wngYPxXBT/6Iz5ZjdnShFrjD0Pk/tdR+1ssZCx9YFsJ+NDsiMfzHanD6f/ff/09fIXkdxkZ/D37qWvxC+hvbK9Y7yU+OfdtnkfV6ExLkYHVozPa3OCFOMidnWcNbApNTQYs6cfT/tH1rFfKSYZ+8M+eIkLGaLfzfgFGStkWppr5tZWq8vAePf6QmyYoDNm3UlFrJBgZfaCcehi2+PAGyJjqYg5YxJ+ICbOearpFTFmc96S8iBpbVUlgYwd6rPD7l7FmNUUl6wKqLvBFLds44zdENPJoNfsiBgLRUyMy7hPL4gJOOnVMf5geP+l1vZsUVIFjDF/zPe+czhjcZC6Rcv+IYHDmsL4GpudmF4TjNnZyDgq0lM5Ycy/QsYs8Xd30bFmbVV/DIwJRhjiJtEXM2Rc1HL01PVMT+dtnWNOaB5b02qZdT0KxkQZGE/QrbCKltfHmIuYZeVB0tpagz5njNuywUQWWzd6RYvcIcGvtDsW23BP7oSqMQbK/pnVoQpkJlBeEePtbWtv58d9VB5aWyu/PlC5TWcGDqOk7cum7UJR9rGyytjRV2dMT9jTdo0Ex64Yu079zxH48/ZuQzVfXa38Lm0XEGSswcCHs6knhRi7qZSxGr6j7dGiMebF4deqfXImGb/4h5FpMfy9unsbIg+vj2NC09pVu0gndgWqAmPdkwjGFC7GY6trJPs54+DFP1RPY3zPXXAGFaIMjM0cffMaguSjRbtbdfQZkTFmzTpz54QtcHPjjF/DwyEV43v3T3f6dpkYmzn6pkNbtg2MXdqKYpe2jq7skDF7dFa37oQGYzaOXWf2CrajF4y/33MUkzXOwMkeJHL0Tdp/uktPJuSMOVPJWPMVrHkSq4gSjAvx2Hnpjpjb3sfvnz79vloxT5GyQQUY95KM+TpzSeyayZkajDHSPrLO8FmFvHdEY1wvuG48vr54q49fMa3TB8ZBijHf6+2oYxVVRYs5jovFiPagnvO94sxxXHDi5ot3xE9oPSeDMT43DLey0R4jYjIuR5MS34WzkGLsBifr/lR/l8VzuaCkM0a3HFv8YWQpxqwv50LretQYv4qp7olN7mFsMAZWLWseo9NOMqZNcsZN60TrshGMxZNXcktY84QW7hKMg5ZVmI3Fw48l4zJu9tTcv+5aJ2GKMSWXcsu08QwoZzAOCye77KHpgjEGznEvCJ0MxmIn79wyLa7VwzDN2HXdOkqMSsQYUzMUPf4tg7HzZh+Btaq1zguzNGN6YhNGfiwn1J+KjQHSjK9zR7zcur0sxhi2gVLoQNA8bWBUx2dEg7F7YrVyRbyaNbVdpCVjlB3M0cZqq3SDsRuer/vOX5A15VPdNMZEGddJ9D0NFWO5zXRuK5p8NIXOOKPeTTB2g3ruiO9tc7Y55GqM3/Czdx9lMfWir8KYPyggtwdYcz9wnaWMneDlr3Os08b15Yz33/rT5h9rcQ0YF+5inI/hp7CZyl6ajOVDJHN7tM1lzKEzZo/gze2JLBb90RrjIHgVq6F/kfFmBsk4DBb2NOb2YKP9Kjhj/tyV3J7cam7IGOcp4j9nrfNrYpxnJv6k7eIAzvVabrnllltuueWWW2655bbc/gf2rnmH7oCQogAAAABJRU5ErkJggg==\"/>\n"
   ]
  },
  {
   "cell_type": "markdown",
   "metadata": {},
   "source": [
    "*Numpy Basics in one Class*"
   ]
  },
  {
   "cell_type": "code",
   "execution_count": 1,
   "metadata": {},
   "outputs": [],
   "source": [
    "import numpy as np"
   ]
  },
  {
   "cell_type": "markdown",
   "metadata": {},
   "source": [
    "# Create Array"
   ]
  },
  {
   "cell_type": "code",
   "execution_count": 2,
   "metadata": {},
   "outputs": [],
   "source": [
    "myarr=np.array([[1,2,3,4,5]])\n",
    "        "
   ]
  },
  {
   "cell_type": "code",
   "execution_count": 3,
   "metadata": {},
   "outputs": [
    {
     "data": {
      "text/plain": [
       "array([[1, 2, 3, 4, 5]])"
      ]
     },
     "execution_count": 3,
     "metadata": {},
     "output_type": "execute_result"
    }
   ],
   "source": [
    "myarr"
   ]
  },
  {
   "cell_type": "code",
   "execution_count": 4,
   "metadata": {},
   "outputs": [
    {
     "data": {
      "text/plain": [
       "array([1, 2, 3, 4, 5])"
      ]
     },
     "execution_count": 4,
     "metadata": {},
     "output_type": "execute_result"
    }
   ],
   "source": [
    "myarr[0]"
   ]
  },
  {
   "cell_type": "code",
   "execution_count": 5,
   "metadata": {},
   "outputs": [
    {
     "data": {
      "text/plain": [
       "2"
      ]
     },
     "execution_count": 5,
     "metadata": {},
     "output_type": "execute_result"
    }
   ],
   "source": [
    "myarr[0,1]"
   ]
  },
  {
   "cell_type": "code",
   "execution_count": 6,
   "metadata": {},
   "outputs": [
    {
     "data": {
      "text/plain": [
       "(1, 5)"
      ]
     },
     "execution_count": 6,
     "metadata": {},
     "output_type": "execute_result"
    }
   ],
   "source": [
    "myarr.shape"
   ]
  },
  {
   "cell_type": "code",
   "execution_count": 7,
   "metadata": {},
   "outputs": [
    {
     "data": {
      "text/plain": [
       "dtype('int32')"
      ]
     },
     "execution_count": 7,
     "metadata": {},
     "output_type": "execute_result"
    }
   ],
   "source": [
    "myarr.dtype"
   ]
  },
  {
   "cell_type": "markdown",
   "metadata": {},
   "source": [
    "# Change Element in Array"
   ]
  },
  {
   "cell_type": "code",
   "execution_count": 8,
   "metadata": {},
   "outputs": [],
   "source": [
    "myarr[0,1]=45"
   ]
  },
  {
   "cell_type": "code",
   "execution_count": 9,
   "metadata": {},
   "outputs": [
    {
     "data": {
      "text/plain": [
       "array([[ 1, 45,  3,  4,  5]])"
      ]
     },
     "execution_count": 9,
     "metadata": {},
     "output_type": "execute_result"
    }
   ],
   "source": [
    "myarr"
   ]
  },
  {
   "cell_type": "markdown",
   "metadata": {},
   "source": [
    "# Array Method Conversion from other Python structures (e.g., lists, tuples)"
   ]
  },
  {
   "cell_type": "code",
   "execution_count": 10,
   "metadata": {},
   "outputs": [],
   "source": [
    "listarr=np.array([[1,2,3],[4,5,6],[7,8,9]])"
   ]
  },
  {
   "cell_type": "code",
   "execution_count": 11,
   "metadata": {},
   "outputs": [
    {
     "data": {
      "text/plain": [
       "array([[1, 2, 3],\n",
       "       [4, 5, 6],\n",
       "       [7, 8, 9]])"
      ]
     },
     "execution_count": 11,
     "metadata": {},
     "output_type": "execute_result"
    }
   ],
   "source": [
    "listarr"
   ]
  },
  {
   "cell_type": "code",
   "execution_count": 12,
   "metadata": {},
   "outputs": [
    {
     "data": {
      "text/plain": [
       "9"
      ]
     },
     "execution_count": 12,
     "metadata": {},
     "output_type": "execute_result"
    }
   ],
   "source": [
    "listarr.size"
   ]
  },
  {
   "cell_type": "code",
   "execution_count": 13,
   "metadata": {},
   "outputs": [
    {
     "data": {
      "text/plain": [
       "(3, 3)"
      ]
     },
     "execution_count": 13,
     "metadata": {},
     "output_type": "execute_result"
    }
   ],
   "source": [
    "listarr.shape"
   ]
  },
  {
   "cell_type": "code",
   "execution_count": 14,
   "metadata": {},
   "outputs": [
    {
     "data": {
      "text/plain": [
       "dtype('int32')"
      ]
     },
     "execution_count": 14,
     "metadata": {},
     "output_type": "execute_result"
    }
   ],
   "source": [
    "listarr.dtype"
   ]
  },
  {
   "cell_type": "code",
   "execution_count": 15,
   "metadata": {},
   "outputs": [],
   "source": [
    "listarr[0,1]=45"
   ]
  },
  {
   "cell_type": "code",
   "execution_count": 16,
   "metadata": {},
   "outputs": [
    {
     "data": {
      "text/plain": [
       "array([[ 1, 45,  3],\n",
       "       [ 4,  5,  6],\n",
       "       [ 7,  8,  9]])"
      ]
     },
     "execution_count": 16,
     "metadata": {},
     "output_type": "execute_result"
    }
   ],
   "source": [
    "listarr"
   ]
  },
  {
   "cell_type": "code",
   "execution_count": 17,
   "metadata": {},
   "outputs": [],
   "source": [
    "listarr[1,1]=45"
   ]
  },
  {
   "cell_type": "code",
   "execution_count": 18,
   "metadata": {},
   "outputs": [
    {
     "data": {
      "text/plain": [
       "array([[ 1, 45,  3],\n",
       "       [ 4, 45,  6],\n",
       "       [ 7,  8,  9]])"
      ]
     },
     "execution_count": 18,
     "metadata": {},
     "output_type": "execute_result"
    }
   ],
   "source": [
    "listarr"
   ]
  },
  {
   "cell_type": "code",
   "execution_count": 19,
   "metadata": {},
   "outputs": [],
   "source": [
    "listarr[2,1]=45"
   ]
  },
  {
   "cell_type": "code",
   "execution_count": 20,
   "metadata": {},
   "outputs": [
    {
     "data": {
      "text/plain": [
       "array([[ 1, 45,  3],\n",
       "       [ 4, 45,  6],\n",
       "       [ 7, 45,  9]])"
      ]
     },
     "execution_count": 20,
     "metadata": {},
     "output_type": "execute_result"
    }
   ],
   "source": [
    "listarr"
   ]
  },
  {
   "cell_type": "markdown",
   "metadata": {},
   "source": [
    "# Intrinsic NumPy Array Creation¶\n"
   ]
  },
  {
   "cell_type": "code",
   "execution_count": 21,
   "metadata": {},
   "outputs": [
    {
     "data": {
      "text/plain": [
       "array([[0., 0., 0.],\n",
       "       [0., 0., 0.]])"
      ]
     },
     "execution_count": 21,
     "metadata": {},
     "output_type": "execute_result"
    }
   ],
   "source": [
    "np.zeros((2,3))"
   ]
  },
  {
   "cell_type": "code",
   "execution_count": 22,
   "metadata": {},
   "outputs": [
    {
     "data": {
      "text/plain": [
       "array([1, 2, 3, 4, 5, 6, 7, 8, 9])"
      ]
     },
     "execution_count": 22,
     "metadata": {},
     "output_type": "execute_result"
    }
   ],
   "source": [
    "np.arange(1,10)"
   ]
  },
  {
   "cell_type": "code",
   "execution_count": 23,
   "metadata": {},
   "outputs": [
    {
     "data": {
      "text/plain": [
       "numpy.dtype"
      ]
     },
     "execution_count": 23,
     "metadata": {},
     "output_type": "execute_result"
    }
   ],
   "source": [
    "np.dtype"
   ]
  },
  {
   "cell_type": "code",
   "execution_count": 24,
   "metadata": {},
   "outputs": [
    {
     "data": {
      "text/plain": [
       "array([ 1., 10.])"
      ]
     },
     "execution_count": 24,
     "metadata": {},
     "output_type": "execute_result"
    }
   ],
   "source": [
    "np.linspace(1,10,2)"
   ]
  },
  {
   "cell_type": "markdown",
   "metadata": {},
   "source": [
    "# Axis=0 (Row Wise) & Axis=1 (Column Wise)"
   ]
  },
  {
   "cell_type": "code",
   "execution_count": 25,
   "metadata": {},
   "outputs": [],
   "source": [
    "a=np.array([[1,2,3],[4,5,6],[7,8,9]])"
   ]
  },
  {
   "cell_type": "code",
   "execution_count": 26,
   "metadata": {},
   "outputs": [
    {
     "data": {
      "text/plain": [
       "array([[1, 2, 3],\n",
       "       [4, 5, 6],\n",
       "       [7, 8, 9]])"
      ]
     },
     "execution_count": 26,
     "metadata": {},
     "output_type": "execute_result"
    }
   ],
   "source": [
    "a"
   ]
  },
  {
   "cell_type": "code",
   "execution_count": 27,
   "metadata": {},
   "outputs": [
    {
     "data": {
      "text/plain": [
       "array([12, 15, 18])"
      ]
     },
     "execution_count": 27,
     "metadata": {},
     "output_type": "execute_result"
    }
   ],
   "source": [
    "a.sum(axis=0)"
   ]
  },
  {
   "cell_type": "code",
   "execution_count": 28,
   "metadata": {},
   "outputs": [
    {
     "data": {
      "text/plain": [
       "array([ 6, 15, 24])"
      ]
     },
     "execution_count": 28,
     "metadata": {},
     "output_type": "execute_result"
    }
   ],
   "source": [
    "a.sum(axis=1)"
   ]
  },
  {
   "cell_type": "code",
   "execution_count": 29,
   "metadata": {},
   "outputs": [
    {
     "data": {
      "text/plain": [
       "2"
      ]
     },
     "execution_count": 29,
     "metadata": {},
     "output_type": "execute_result"
    }
   ],
   "source": [
    "a.ndim"
   ]
  },
  {
   "cell_type": "code",
   "execution_count": 30,
   "metadata": {},
   "outputs": [
    {
     "data": {
      "text/plain": [
       "36"
      ]
     },
     "execution_count": 30,
     "metadata": {},
     "output_type": "execute_result"
    }
   ],
   "source": [
    "a.nbytes"
   ]
  },
  {
   "cell_type": "code",
   "execution_count": 31,
   "metadata": {},
   "outputs": [
    {
     "data": {
      "text/plain": [
       "9"
      ]
     },
     "execution_count": 31,
     "metadata": {},
     "output_type": "execute_result"
    }
   ],
   "source": [
    "a.size"
   ]
  },
  {
   "cell_type": "markdown",
   "metadata": {},
   "source": [
    "# Array Tranpose"
   ]
  },
  {
   "cell_type": "code",
   "execution_count": 32,
   "metadata": {},
   "outputs": [],
   "source": [
    "b=np.array([[4,7,8],[9,10,11],[12,13,14]])"
   ]
  },
  {
   "cell_type": "code",
   "execution_count": 33,
   "metadata": {},
   "outputs": [
    {
     "data": {
      "text/plain": [
       "<function ndarray.transpose>"
      ]
     },
     "execution_count": 33,
     "metadata": {},
     "output_type": "execute_result"
    }
   ],
   "source": [
    "b.transpose"
   ]
  },
  {
   "cell_type": "code",
   "execution_count": 34,
   "metadata": {},
   "outputs": [
    {
     "data": {
      "text/plain": [
       "array([[ 4,  9, 12],\n",
       "       [ 7, 10, 13],\n",
       "       [ 8, 11, 14]])"
      ]
     },
     "execution_count": 34,
     "metadata": {},
     "output_type": "execute_result"
    }
   ],
   "source": [
    "b.transpose()"
   ]
  },
  {
   "cell_type": "markdown",
   "metadata": {},
   "source": [
    "# Find max,min index no where max or min element exist and sort out for one dimension array"
   ]
  },
  {
   "cell_type": "code",
   "execution_count": 35,
   "metadata": {},
   "outputs": [],
   "source": [
    "a=np.array([1,2,3,4,5])"
   ]
  },
  {
   "cell_type": "code",
   "execution_count": 36,
   "metadata": {},
   "outputs": [
    {
     "data": {
      "text/plain": [
       "array([1, 2, 3, 4, 5])"
      ]
     },
     "execution_count": 36,
     "metadata": {},
     "output_type": "execute_result"
    }
   ],
   "source": [
    "a"
   ]
  },
  {
   "cell_type": "code",
   "execution_count": 37,
   "metadata": {},
   "outputs": [
    {
     "data": {
      "text/plain": [
       "<function ndarray.argmax>"
      ]
     },
     "execution_count": 37,
     "metadata": {},
     "output_type": "execute_result"
    }
   ],
   "source": [
    "a.argmax"
   ]
  },
  {
   "cell_type": "code",
   "execution_count": 38,
   "metadata": {},
   "outputs": [
    {
     "data": {
      "text/plain": [
       "4"
      ]
     },
     "execution_count": 38,
     "metadata": {},
     "output_type": "execute_result"
    }
   ],
   "source": [
    "a.argmax()"
   ]
  },
  {
   "cell_type": "code",
   "execution_count": 39,
   "metadata": {},
   "outputs": [
    {
     "data": {
      "text/plain": [
       "0"
      ]
     },
     "execution_count": 39,
     "metadata": {},
     "output_type": "execute_result"
    }
   ],
   "source": [
    "a.argmin()"
   ]
  },
  {
   "cell_type": "code",
   "execution_count": 40,
   "metadata": {},
   "outputs": [
    {
     "data": {
      "text/plain": [
       "array([0, 1, 2, 3, 4], dtype=int64)"
      ]
     },
     "execution_count": 40,
     "metadata": {},
     "output_type": "execute_result"
    }
   ],
   "source": [
    "a.argsort()"
   ]
  },
  {
   "cell_type": "markdown",
   "metadata": {},
   "source": [
    "# Find max,min index no where max or min element exist and sort out for two dimension array"
   ]
  },
  {
   "cell_type": "code",
   "execution_count": 41,
   "metadata": {},
   "outputs": [],
   "source": [
    "a=np.array([[1,2,3],[12,13,14],[17,18,19]])"
   ]
  },
  {
   "cell_type": "code",
   "execution_count": 42,
   "metadata": {},
   "outputs": [
    {
     "data": {
      "text/plain": [
       "array([[ 1,  2,  3],\n",
       "       [12, 13, 14],\n",
       "       [17, 18, 19]])"
      ]
     },
     "execution_count": 42,
     "metadata": {},
     "output_type": "execute_result"
    }
   ],
   "source": [
    "a"
   ]
  },
  {
   "cell_type": "code",
   "execution_count": 43,
   "metadata": {},
   "outputs": [
    {
     "data": {
      "text/plain": [
       "0"
      ]
     },
     "execution_count": 43,
     "metadata": {},
     "output_type": "execute_result"
    }
   ],
   "source": [
    "a.argmin()"
   ]
  },
  {
   "cell_type": "code",
   "execution_count": 44,
   "metadata": {},
   "outputs": [
    {
     "data": {
      "text/plain": [
       "8"
      ]
     },
     "execution_count": 44,
     "metadata": {},
     "output_type": "execute_result"
    }
   ],
   "source": [
    "a.argmax()"
   ]
  },
  {
   "cell_type": "code",
   "execution_count": 45,
   "metadata": {},
   "outputs": [
    {
     "data": {
      "text/plain": [
       "array([[0, 1, 2],\n",
       "       [0, 1, 2],\n",
       "       [0, 1, 2]], dtype=int64)"
      ]
     },
     "execution_count": 45,
     "metadata": {},
     "output_type": "execute_result"
    }
   ],
   "source": [
    "a.argsort()"
   ]
  },
  {
   "cell_type": "code",
   "execution_count": 46,
   "metadata": {},
   "outputs": [
    {
     "data": {
      "text/plain": [
       "array([2, 2, 2], dtype=int64)"
      ]
     },
     "execution_count": 46,
     "metadata": {},
     "output_type": "execute_result"
    }
   ],
   "source": [
    "a.argmax(axis=0)"
   ]
  },
  {
   "cell_type": "code",
   "execution_count": 47,
   "metadata": {},
   "outputs": [
    {
     "data": {
      "text/plain": [
       "array([2, 2, 2], dtype=int64)"
      ]
     },
     "execution_count": 47,
     "metadata": {},
     "output_type": "execute_result"
    }
   ],
   "source": [
    "a.argmax(axis=1)"
   ]
  },
  {
   "cell_type": "markdown",
   "metadata": {},
   "source": [
    "# # Find max,min index no where max or min element exist and sort out for two dimension unsorted array"
   ]
  },
  {
   "cell_type": "code",
   "execution_count": 48,
   "metadata": {},
   "outputs": [],
   "source": [
    "a=np.array([[4,8,9],[5,17,2],[15,4,11]])"
   ]
  },
  {
   "cell_type": "code",
   "execution_count": 49,
   "metadata": {},
   "outputs": [
    {
     "data": {
      "text/plain": [
       "array([[ 4,  8,  9],\n",
       "       [ 5, 17,  2],\n",
       "       [15,  4, 11]])"
      ]
     },
     "execution_count": 49,
     "metadata": {},
     "output_type": "execute_result"
    }
   ],
   "source": [
    "a"
   ]
  },
  {
   "cell_type": "code",
   "execution_count": 50,
   "metadata": {},
   "outputs": [
    {
     "data": {
      "text/plain": [
       "4"
      ]
     },
     "execution_count": 50,
     "metadata": {},
     "output_type": "execute_result"
    }
   ],
   "source": [
    "a.argmax()"
   ]
  },
  {
   "cell_type": "code",
   "execution_count": 51,
   "metadata": {},
   "outputs": [
    {
     "data": {
      "text/plain": [
       "5"
      ]
     },
     "execution_count": 51,
     "metadata": {},
     "output_type": "execute_result"
    }
   ],
   "source": [
    "a.argmin()"
   ]
  },
  {
   "cell_type": "code",
   "execution_count": 52,
   "metadata": {},
   "outputs": [
    {
     "data": {
      "text/plain": [
       "array([[0, 1, 2],\n",
       "       [2, 0, 1],\n",
       "       [1, 2, 0]], dtype=int64)"
      ]
     },
     "execution_count": 52,
     "metadata": {},
     "output_type": "execute_result"
    }
   ],
   "source": [
    "a.argsort()"
   ]
  },
  {
   "cell_type": "code",
   "execution_count": 53,
   "metadata": {},
   "outputs": [
    {
     "data": {
      "text/plain": [
       "array([0, 2, 1], dtype=int64)"
      ]
     },
     "execution_count": 53,
     "metadata": {},
     "output_type": "execute_result"
    }
   ],
   "source": [
    "a.argmin(axis=0)"
   ]
  },
  {
   "cell_type": "code",
   "execution_count": 54,
   "metadata": {},
   "outputs": [
    {
     "data": {
      "text/plain": [
       "array([0, 2, 1], dtype=int64)"
      ]
     },
     "execution_count": 54,
     "metadata": {},
     "output_type": "execute_result"
    }
   ],
   "source": [
    "a.argmin(axis=1)"
   ]
  },
  {
   "cell_type": "code",
   "execution_count": 55,
   "metadata": {},
   "outputs": [
    {
     "data": {
      "text/plain": [
       "array([2, 1, 0], dtype=int64)"
      ]
     },
     "execution_count": 55,
     "metadata": {},
     "output_type": "execute_result"
    }
   ],
   "source": [
    "a.argmax(axis=1)"
   ]
  },
  {
   "cell_type": "code",
   "execution_count": 56,
   "metadata": {},
   "outputs": [
    {
     "data": {
      "text/plain": [
       "array([[ 4,  8,  9],\n",
       "       [ 5, 17,  2],\n",
       "       [15,  4, 11]])"
      ]
     },
     "execution_count": 56,
     "metadata": {},
     "output_type": "execute_result"
    }
   ],
   "source": [
    "a"
   ]
  },
  {
   "cell_type": "code",
   "execution_count": 57,
   "metadata": {},
   "outputs": [
    {
     "data": {
      "text/plain": [
       "array([2, 1, 0], dtype=int64)"
      ]
     },
     "execution_count": 57,
     "metadata": {},
     "output_type": "execute_result"
    }
   ],
   "source": [
    "a.argmax(axis=1)"
   ]
  },
  {
   "cell_type": "code",
   "execution_count": 58,
   "metadata": {},
   "outputs": [
    {
     "data": {
      "text/plain": [
       "array([[0, 1, 2],\n",
       "       [2, 0, 1],\n",
       "       [1, 2, 0]], dtype=int64)"
      ]
     },
     "execution_count": 58,
     "metadata": {},
     "output_type": "execute_result"
    }
   ],
   "source": [
    "a.argsort(axis=1)"
   ]
  },
  {
   "cell_type": "code",
   "execution_count": 59,
   "metadata": {},
   "outputs": [
    {
     "data": {
      "text/plain": [
       "array([[0, 2, 1],\n",
       "       [1, 0, 0],\n",
       "       [2, 1, 2]], dtype=int64)"
      ]
     },
     "execution_count": 59,
     "metadata": {},
     "output_type": "execute_result"
    }
   ],
   "source": [
    "a.argsort(axis=0)"
   ]
  },
  {
   "cell_type": "markdown",
   "metadata": {},
   "source": [
    "# To make array straight\n"
   ]
  },
  {
   "cell_type": "code",
   "execution_count": 60,
   "metadata": {},
   "outputs": [],
   "source": [
    "a=np.array([[4,7,8],[9,10,12],[12,14,5]])"
   ]
  },
  {
   "cell_type": "code",
   "execution_count": 61,
   "metadata": {},
   "outputs": [
    {
     "data": {
      "text/plain": [
       "array([[ 4,  7,  8],\n",
       "       [ 9, 10, 12],\n",
       "       [12, 14,  5]])"
      ]
     },
     "execution_count": 61,
     "metadata": {},
     "output_type": "execute_result"
    }
   ],
   "source": [
    "a"
   ]
  },
  {
   "cell_type": "code",
   "execution_count": 62,
   "metadata": {},
   "outputs": [
    {
     "data": {
      "text/plain": [
       "array([ 4,  7,  8,  9, 10, 12, 12, 14,  5])"
      ]
     },
     "execution_count": 62,
     "metadata": {},
     "output_type": "execute_result"
    }
   ],
   "source": [
    "a.ravel()"
   ]
  },
  {
   "cell_type": "code",
   "execution_count": 63,
   "metadata": {},
   "outputs": [
    {
     "data": {
      "text/plain": [
       "array([ 4,  7,  8,  9, 10, 12, 12, 14,  5])"
      ]
     },
     "execution_count": 63,
     "metadata": {},
     "output_type": "execute_result"
    }
   ],
   "source": [
    "a.reshape(9,)"
   ]
  },
  {
   "cell_type": "markdown",
   "metadata": {},
   "source": [
    "# Sum and Multipication of two arrays ->Matrix Operation"
   ]
  },
  {
   "cell_type": "code",
   "execution_count": 64,
   "metadata": {},
   "outputs": [],
   "source": [
    "a=np.array([[1,2,3],[4,5,6],[7,8,9]])"
   ]
  },
  {
   "cell_type": "code",
   "execution_count": 65,
   "metadata": {},
   "outputs": [
    {
     "data": {
      "text/plain": [
       "array([[1, 2, 3],\n",
       "       [4, 5, 6],\n",
       "       [7, 8, 9]])"
      ]
     },
     "execution_count": 65,
     "metadata": {},
     "output_type": "execute_result"
    }
   ],
   "source": [
    "a"
   ]
  },
  {
   "cell_type": "code",
   "execution_count": 66,
   "metadata": {},
   "outputs": [],
   "source": [
    "b=np.array([[10,11,12],[13,14,15],[16,17,18]])"
   ]
  },
  {
   "cell_type": "code",
   "execution_count": 67,
   "metadata": {},
   "outputs": [
    {
     "data": {
      "text/plain": [
       "array([[10, 11, 12],\n",
       "       [13, 14, 15],\n",
       "       [16, 17, 18]])"
      ]
     },
     "execution_count": 67,
     "metadata": {},
     "output_type": "execute_result"
    }
   ],
   "source": [
    "b"
   ]
  },
  {
   "cell_type": "code",
   "execution_count": 68,
   "metadata": {},
   "outputs": [
    {
     "data": {
      "text/plain": [
       "array([[11, 13, 15],\n",
       "       [17, 19, 21],\n",
       "       [23, 25, 27]])"
      ]
     },
     "execution_count": 68,
     "metadata": {},
     "output_type": "execute_result"
    }
   ],
   "source": [
    "a+b"
   ]
  },
  {
   "cell_type": "code",
   "execution_count": 69,
   "metadata": {},
   "outputs": [
    {
     "data": {
      "text/plain": [
       "array([[ 10,  22,  36],\n",
       "       [ 52,  70,  90],\n",
       "       [112, 136, 162]])"
      ]
     },
     "execution_count": 69,
     "metadata": {},
     "output_type": "execute_result"
    }
   ],
   "source": [
    "a*b"
   ]
  },
  {
   "cell_type": "code",
   "execution_count": 70,
   "metadata": {},
   "outputs": [
    {
     "data": {
      "text/plain": [
       "array([[0.1       , 0.18181818, 0.25      ],\n",
       "       [0.30769231, 0.35714286, 0.4       ],\n",
       "       [0.4375    , 0.47058824, 0.5       ]])"
      ]
     },
     "execution_count": 70,
     "metadata": {},
     "output_type": "execute_result"
    }
   ],
   "source": [
    "a/b"
   ]
  },
  {
   "cell_type": "markdown",
   "metadata": {},
   "source": [
    "# Sqrt function\n"
   ]
  },
  {
   "cell_type": "code",
   "execution_count": 71,
   "metadata": {},
   "outputs": [],
   "source": [
    "a=np.array([[1,2,3],[4,5,6],[7,8,9]])"
   ]
  },
  {
   "cell_type": "code",
   "execution_count": 72,
   "metadata": {},
   "outputs": [
    {
     "data": {
      "text/plain": [
       "array([[1, 2, 3],\n",
       "       [4, 5, 6],\n",
       "       [7, 8, 9]])"
      ]
     },
     "execution_count": 72,
     "metadata": {},
     "output_type": "execute_result"
    }
   ],
   "source": [
    "a"
   ]
  },
  {
   "cell_type": "code",
   "execution_count": 73,
   "metadata": {},
   "outputs": [
    {
     "data": {
      "text/plain": [
       "array([[1.        , 1.41421356, 1.73205081],\n",
       "       [2.        , 2.23606798, 2.44948974],\n",
       "       [2.64575131, 2.82842712, 3.        ]])"
      ]
     },
     "execution_count": 73,
     "metadata": {},
     "output_type": "execute_result"
    }
   ],
   "source": [
    "np.sqrt(a)"
   ]
  },
  {
   "cell_type": "markdown",
   "metadata": {},
   "source": [
    "# Find Min and Max number in Array"
   ]
  },
  {
   "cell_type": "code",
   "execution_count": 74,
   "metadata": {},
   "outputs": [],
   "source": [
    "a=np.array([[1,4,5],[7,8,9],[40,50,60]])"
   ]
  },
  {
   "cell_type": "code",
   "execution_count": 75,
   "metadata": {},
   "outputs": [
    {
     "data": {
      "text/plain": [
       "array([[ 1,  4,  5],\n",
       "       [ 7,  8,  9],\n",
       "       [40, 50, 60]])"
      ]
     },
     "execution_count": 75,
     "metadata": {},
     "output_type": "execute_result"
    }
   ],
   "source": [
    "a"
   ]
  },
  {
   "cell_type": "code",
   "execution_count": 76,
   "metadata": {},
   "outputs": [
    {
     "data": {
      "text/plain": [
       "60"
      ]
     },
     "execution_count": 76,
     "metadata": {},
     "output_type": "execute_result"
    }
   ],
   "source": [
    "a.max()"
   ]
  },
  {
   "cell_type": "code",
   "execution_count": 77,
   "metadata": {},
   "outputs": [
    {
     "data": {
      "text/plain": [
       "1"
      ]
     },
     "execution_count": 77,
     "metadata": {},
     "output_type": "execute_result"
    }
   ],
   "source": [
    "a.min()"
   ]
  },
  {
   "cell_type": "code",
   "execution_count": 78,
   "metadata": {},
   "outputs": [
    {
     "data": {
      "text/plain": [
       "184"
      ]
     },
     "execution_count": 78,
     "metadata": {},
     "output_type": "execute_result"
    }
   ],
   "source": [
    "a.sum()"
   ]
  },
  {
   "cell_type": "code",
   "execution_count": 79,
   "metadata": {},
   "outputs": [],
   "source": [
    "a.sort()"
   ]
  },
  {
   "cell_type": "code",
   "execution_count": 80,
   "metadata": {},
   "outputs": [
    {
     "data": {
      "text/plain": [
       "array([[ 1,  4,  5],\n",
       "       [ 7,  8,  9],\n",
       "       [40, 50, 60]])"
      ]
     },
     "execution_count": 80,
     "metadata": {},
     "output_type": "execute_result"
    }
   ],
   "source": [
    "a"
   ]
  },
  {
   "cell_type": "markdown",
   "metadata": {},
   "source": [
    "# Find Element in array"
   ]
  },
  {
   "cell_type": "code",
   "execution_count": 81,
   "metadata": {},
   "outputs": [],
   "source": [
    "a=np.array([[1,2,3],[4,5,6],[7,8,9]])"
   ]
  },
  {
   "cell_type": "code",
   "execution_count": 82,
   "metadata": {},
   "outputs": [
    {
     "data": {
      "text/plain": [
       "array([[1, 2, 3],\n",
       "       [4, 5, 6],\n",
       "       [7, 8, 9]])"
      ]
     },
     "execution_count": 82,
     "metadata": {},
     "output_type": "execute_result"
    }
   ],
   "source": [
    "a"
   ]
  },
  {
   "cell_type": "code",
   "execution_count": 83,
   "metadata": {},
   "outputs": [
    {
     "data": {
      "text/plain": [
       "(array([1, 2, 2, 2], dtype=int64), array([2, 0, 1, 2], dtype=int64))"
      ]
     },
     "execution_count": 83,
     "metadata": {},
     "output_type": "execute_result"
    }
   ],
   "source": [
    "np.where(a>5)"
   ]
  },
  {
   "cell_type": "code",
   "execution_count": 84,
   "metadata": {},
   "outputs": [
    {
     "data": {
      "text/plain": [
       "9"
      ]
     },
     "execution_count": 84,
     "metadata": {},
     "output_type": "execute_result"
    }
   ],
   "source": [
    "np.count_nonzero(a)"
   ]
  },
  {
   "cell_type": "code",
   "execution_count": 85,
   "metadata": {},
   "outputs": [
    {
     "data": {
      "text/plain": [
       "9"
      ]
     },
     "execution_count": 85,
     "metadata": {},
     "output_type": "execute_result"
    }
   ],
   "source": [
    "a.size"
   ]
  },
  {
   "cell_type": "code",
   "execution_count": 1,
   "metadata": {},
   "outputs": [],
   "source": [
    "! jt -t monokai"
   ]
  },
  {
   "cell_type": "markdown",
   "metadata": {},
   "source": [
    "# Numpy Documentation Link"
   ]
  },
  {
   "cell_type": "markdown",
   "metadata": {},
   "source": [
    "# https://numpy.org/doc/stable/reference/generated/numpy.ndarray.html"
   ]
  }
 ],
 "metadata": {
  "kernelspec": {
   "display_name": "Python 3",
   "language": "python",
   "name": "python3"
  },
  "language_info": {
   "codemirror_mode": {
    "name": "ipython",
    "version": 3
   },
   "file_extension": ".py",
   "mimetype": "text/x-python",
   "name": "python",
   "nbconvert_exporter": "python",
   "pygments_lexer": "ipython3",
   "version": "3.7.7"
  }
 },
 "nbformat": 4,
 "nbformat_minor": 4
}
